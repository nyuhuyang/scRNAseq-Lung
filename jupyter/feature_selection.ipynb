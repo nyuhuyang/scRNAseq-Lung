{
 "cells": [
  {
   "cell_type": "code",
   "execution_count": 1,
   "metadata": {},
   "outputs": [],
   "source": [
    "import h5py\n",
    "import numpy as np\n",
    "from scipy import stats\n",
    "from scipy import sparse\n",
    "from statsmodels.stats.multitest import multipletests\n",
    "import pandas as pd\n",
    "import numpy as np\n",
    "from sklearn.feature_selection import SelectKBest\n",
    "from sklearn.feature_selection import chi2"
   ]
  },
  {
   "cell_type": "code",
   "execution_count": 19,
   "metadata": {},
   "outputs": [],
   "source": [
    "f = h5py.File('../Yang/Lung_30/Feature_selection/P_D_mat.h5','r')"
   ]
  },
  {
   "cell_type": "code",
   "execution_count": 52,
   "metadata": {},
   "outputs": [
    {
     "data": {
      "text/plain": [
       "(2000, 15150, (2000, 15150))"
      ]
     },
     "execution_count": 52,
     "metadata": {},
     "output_type": "execute_result"
    }
   ],
   "source": [
    "data = f['data'][:]\n",
    "genes=f[\".data_dimnames\"]['1'][:]\n",
    "samples=f[\".data_dimnames\"]['2'][:]\n",
    "len(samples),len(genes),data.shape"
   ]
  },
  {
   "cell_type": "code",
   "execution_count": 53,
   "metadata": {},
   "outputs": [],
   "source": [
    "genes = np.array([g.decode('utf-8') for g in genes])"
   ]
  },
  {
   "cell_type": "code",
   "execution_count": 54,
   "metadata": {},
   "outputs": [
    {
     "data": {
      "text/plain": [
       "array(['AL627309.1', 'AP006222.2', 'RP11-206L10.9', ..., 'RP11-114G22.1',\n",
       "       'SPRR2E', 'KRT24'], dtype='<U19')"
      ]
     },
     "execution_count": 54,
     "metadata": {},
     "output_type": "execute_result"
    }
   ],
   "source": [
    "N = np.asarray(range(data.shape[1]-1))\n",
    "genes[N]"
   ]
  },
  {
   "cell_type": "code",
   "execution_count": 55,
   "metadata": {},
   "outputs": [],
   "source": [
    "A = data[:,N]  ## independent columns\n",
    "b = data[:,-1]    ## target column i.e region class"
   ]
  },
  {
   "cell_type": "code",
   "execution_count": 56,
   "metadata": {},
   "outputs": [],
   "source": [
    "## apply SelectKBest class to extract top 20 best features\n",
    "bestfeatures = SelectKBest(score_func=chi2, k=10)\n",
    "fit = bestfeatures.fit(A,b)"
   ]
  },
  {
   "cell_type": "code",
   "execution_count": 65,
   "metadata": {},
   "outputs": [
    {
     "name": "stdout",
     "output_type": "stream",
     "text": [
      "          genes          Score  Pvalue\n",
      "7838    SCGB1A1  122859.346309     0.0\n",
      "4181    SCGB3A1   15037.399687     0.0\n",
      "12304      CAPS   10396.613648     0.0\n",
      "11938    BPIFA1    9723.496146     0.0\n",
      "13636    MT-ND3    9434.896114     0.0\n",
      "903      S100A9    9254.162628     0.0\n",
      "9656   HSP90AA1    7952.238427     0.0\n",
      "4393     HSPA1A    7668.269629     0.0\n",
      "909      S100A2    5853.675658     0.0\n",
      "9823        B2M    5818.370092     0.0\n",
      "13630    MT-ND2    5285.865538     0.0\n",
      "11773  SERPINB3    5105.158910     0.0\n",
      "8941     DYNLL1    4385.034201     0.0\n",
      "6996     TUBB4B    4374.802037     0.0\n",
      "12031      SLPI    4371.796465     0.0\n",
      "12106  C20orf85    3880.182290     0.0\n",
      "10593     TPPP3    3705.672004     0.0\n",
      "13581      TFF3    3660.338930     0.0\n",
      "6548    C9orf24    3642.726678     0.0\n",
      "9594      CALM1    3559.944346     0.0\n",
      "11008   ALDH3A1    3542.210449     0.0\n",
      "4394     HSPA1B    3274.709667     0.0\n",
      "13638    MT-ND4    3016.600803     0.0\n",
      "10969       UBB    2951.333290     0.0\n",
      "6862       LCN2    2940.508581     0.0\n",
      "12488    DNAJB1    2934.688309     0.0\n",
      "8546     TUBA1A    2871.832352     0.0\n",
      "11939    BPIFB1    2839.440370     0.0\n",
      "7894      PRDX5    2827.570502     0.0\n",
      "1849    C2orf40    2620.000471     0.0\n",
      "8644      RPL41    2594.096688     0.0\n",
      "4994       AGR3    2548.121600     0.0\n",
      "11183     KRT19    2535.723644     0.0\n",
      "4046    SCGB3A2    2459.103662     0.0\n",
      "13634   MT-ATP6    2433.409156     0.0\n",
      "13584     RSPH1    2391.755859     0.0\n",
      "13060   TMEM190    2308.655919     0.0\n",
      "7834       FTH1    2291.603068     0.0\n",
      "9554        FOS    2183.954071     0.0\n",
      "718    C1orf194    2173.721459     0.0\n",
      "6075        CLU    2154.547115     0.0\n",
      "748        PIFO    2143.813512     0.0\n",
      "14958      LY6D    2139.259182     0.0\n",
      "6753        TXN    2046.140951     0.0\n",
      "9078      HSPH1    2028.972871     0.0\n",
      "5939      CETN2    2012.203442     0.0\n",
      "8184   C11orf88    1992.396534     0.0\n",
      "3821   MTRNR2L2    1945.243948     0.0\n",
      "4553   HSP90AB1    1888.788257     0.0\n",
      "9670        CKB    1868.170206     0.0\n",
      "12953    RPL13A    1805.749437     0.0\n",
      "3624    C5orf49    1763.016303     0.0\n",
      "4585      GSTA1    1726.871249     0.0\n",
      "442     FAM183A    1720.253478     0.0\n",
      "294      ATPIF1    1688.201994     0.0\n",
      "13477     ODF3B    1647.430764     0.0\n",
      "8269      HSPA8    1635.818324     0.0\n",
      "10518      CES1    1633.128075     0.0\n",
      "267         SFN    1622.608599     0.0\n",
      "12234   GADD45B    1617.035984     0.0\n"
     ]
    }
   ],
   "source": [
    "dfscores = pd.DataFrame(fit.scores_)\n",
    "dfpvalues = pd.DataFrame(fit.pvalues_)\n",
    "dfcolumns = pd.DataFrame(genes)\n",
    "\n",
    "#concat two dataframes for better visualization \n",
    "featureScores = pd.concat([dfcolumns,dfscores,dfpvalues],axis=1)\n",
    "featureScores.columns = ['genes','Score','Pvalue']  ## naming the dataframe columns\n",
    "print(featureScores.nlargest(60,'Score'))  ## print 10 best features"
   ]
  },
  {
   "cell_type": "code",
   "execution_count": 60,
   "metadata": {},
   "outputs": [],
   "source": [
    "featureScores.to_csv('../Yang/Lung_30/Feature_selection/chi2.csv',index=False)"
   ]
  },
  {
   "cell_type": "code",
   "execution_count": null,
   "metadata": {},
   "outputs": [],
   "source": []
  }
 ],
 "metadata": {
  "kernelspec": {
   "display_name": "Python 3",
   "language": "python",
   "name": "python3"
  },
  "language_info": {
   "codemirror_mode": {
    "name": "ipython",
    "version": 3
   },
   "file_extension": ".py",
   "mimetype": "text/x-python",
   "name": "python",
   "nbconvert_exporter": "python",
   "pygments_lexer": "ipython3",
   "version": "3.6.11"
  }
 },
 "nbformat": 4,
 "nbformat_minor": 4
}
